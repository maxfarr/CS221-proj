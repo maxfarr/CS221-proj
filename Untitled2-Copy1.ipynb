{
 "cells": [
  {
   "cell_type": "code",
   "execution_count": 1,
   "metadata": {},
   "outputs": [],
   "source": [
    "import numpy as np\n",
    "import math\n",
    "import collections\n",
    "from bs4 import BeautifulSoup\n",
    "from requests import Session\n",
    "import pandas as pd\n",
    "from multiprocessing import Pool\n",
    "from tqdm import tqdm_notebook\n",
    "from goodreads import GoodreadsSession\n",
    "import time"
   ]
  },
  {
   "cell_type": "code",
   "execution_count": null,
   "metadata": {},
   "outputs": [
    {
     "data": {
      "application/vnd.jupyter.widget-view+json": {
       "model_id": "58143d2b53c3441fa98f0a8e0acee335",
       "version_major": 2,
       "version_minor": 0
      },
      "text/plain": [
       "HBox(children=(IntProgress(value=0, max=2551), HTML(value='')))"
      ]
     },
     "metadata": {},
     "output_type": "display_data"
    },
    {
     "name": "stdout",
     "output_type": "stream",
     "text": [
      "\n",
      "\n",
      "\n",
      "\n",
      "\n",
      "\n",
      "\n",
      "\n",
      "\n",
      "\n",
      "\n",
      "\n",
      "\n",
      "\n",
      "\n",
      "\n",
      "\n",
      "\n",
      "\n",
      "\n",
      "\n",
      "\n",
      "\n",
      "\n",
      "\n",
      "\n",
      "\n",
      "\n",
      "\n",
      "\n",
      "\n",
      "\n"
     ]
    }
   ],
   "source": [
    "if __name__ == '__main__':\n",
    "    import worker\n",
    "    df_popular = pd.read_csv(\"popular_quotes.csv\", index_col=0, parse_dates=True)\n",
    "    possible_tags = set()\n",
    "    for t in df_popular.tags:\n",
    "        tags = [x.strip()[1:-1] for x in t[1:-1].split(\",\")]\n",
    "        for tag in tags:\n",
    "            possible_tags.add(tag)\n",
    "    origsize = len(possible_tags)\n",
    "    list_of_df = []\n",
    "    \n",
    "    pbar = tqdm_notebook(total=len(possible_tags))\n",
    "    pool = Pool(16)\n",
    "    \n",
    "    failed = False\n",
    "    \n",
    "    def add(data):\n",
    "        if not isinstance(data, tuple):\n",
    "            global failed\n",
    "            failed = True\n",
    "            pool.terminate()\n",
    "            return\n",
    "        possible_tags.remove(data[1])\n",
    "        list_of_df.append(data[0])\n",
    "        pbar.update()\n",
    "\n",
    "    timebar = tqdm_notebook(total=180)\n",
    "    while(True):\n",
    "        s = Session()\n",
    "        pool = Pool(16)\n",
    "        t = set(possible_tags)\n",
    "        assert len(list_of_df) + len(t) == origsize\n",
    "        for data in enumerate(t):\n",
    "            pool.apply_async(worker.process, args=[data, s], callback=add)\n",
    "        pool.close()\n",
    "        pool.join()\n",
    "        if not failed: break\n",
    "        print(\"sleeping for 120\")\n",
    "        for _ in range(40):\n",
    "            time.sleep(3)\n",
    "            timebar.update(3)\n",
    "        timebar.last_print_n = timebar.n = 0\n",
    "        timebar.last_print_t = timebar.start_t = timebar._time()\n",
    "        timebar.refresh()\n",
    "        failed = False\n",
    "\n",
    "    pool.close()\n",
    "    pool.join()\n",
    "\n",
    "    big_df = pd.concat(list_of_df)\n",
    "    big_df.drop_duplicates(subset = [\"text\", \"author\", \"likes\", \"tags\"], inplace=True)\n",
    "    big_df.to_csv(\"tagged_quotes_compiled.csv\", index_label=False)"
   ]
  },
  {
   "cell_type": "code",
   "execution_count": null,
   "metadata": {},
   "outputs": [],
   "source": []
  }
 ],
 "metadata": {
  "kernelspec": {
   "display_name": "Python 3",
   "language": "python",
   "name": "python3"
  },
  "language_info": {
   "codemirror_mode": {
    "name": "ipython",
    "version": 3
   },
   "file_extension": ".py",
   "mimetype": "text/x-python",
   "name": "python",
   "nbconvert_exporter": "python",
   "pygments_lexer": "ipython3",
   "version": "3.7.3"
  }
 },
 "nbformat": 4,
 "nbformat_minor": 2
}
