{
 "cells": [
  {
   "cell_type": "code",
   "execution_count": 1,
   "metadata": {},
   "outputs": [],
   "source": [
    "import numpy as np\n",
    "import math\n",
    "import collections\n",
    "from bs4 import BeautifulSoup\n",
    "import requests\n",
    "import pandas as pd\n",
    "from multiprocessing import Pool\n",
    "from tqdm import tqdm_notebook"
   ]
  },
  {
   "cell_type": "code",
   "execution_count": null,
   "metadata": {},
   "outputs": [
    {
     "data": {
      "application/vnd.jupyter.widget-view+json": {
       "model_id": "6aa1b310e40040579542fa8a0782d575",
       "version_major": 2,
       "version_minor": 0
      },
      "text/plain": [
       "HBox(children=(IntProgress(value=0, max=2551), HTML(value='')))"
      ]
     },
     "metadata": {},
     "output_type": "display_data"
    }
   ],
   "source": [
    "if __name__ == '__main__':\n",
    "        import worker\n",
    "        df_popular = pd.read_csv(\"popular_quotes.csv\", index_col=0, parse_dates=True)\n",
    "        possible_tags = set()\n",
    "        for t in df_popular.tags:\n",
    "                tags = [x.strip()[1:-1] for x in t[1:-1].split(\",\")]\n",
    "                for tag in tags:\n",
    "                        possible_tags.add(tag)\n",
    "\n",
    "        list_of_df = []\n",
    "\n",
    "        pbar = tqdm_notebook(total=len(possible_tags))\n",
    "\n",
    "        def add(df):\n",
    "                list_of_df.append(df)\n",
    "                pbar.update()\n",
    "\n",
    "        pool = Pool(16)\n",
    "\n",
    "        for data in enumerate(possible_tags):\n",
    "                pool.apply_async(worker.process, args=[data], callback=add)\n",
    "\n",
    "        pool.close()\n",
    "        pool.join()\n",
    "\n",
    "        big_df = pd.concat(list_of_df)\n",
    "        big_df.drop_duplicates(subset = [\"text\", \"author\", \"likes\", \"tags\"], inplace=True)\n",
    "        big_df.to_csv(\"tagged_quotes_compiled.csv\", index_label=False)"
   ]
  },
  {
   "cell_type": "code",
   "execution_count": null,
   "metadata": {},
   "outputs": [],
   "source": []
  }
 ],
 "metadata": {
  "kernelspec": {
   "display_name": "Python 3",
   "language": "python",
   "name": "python3"
  },
  "language_info": {
   "codemirror_mode": {
    "name": "ipython",
    "version": 3
   },
   "file_extension": ".py",
   "mimetype": "text/x-python",
   "name": "python",
   "nbconvert_exporter": "python",
   "pygments_lexer": "ipython3",
   "version": "3.7.3"
  }
 },
 "nbformat": 4,
 "nbformat_minor": 2
}
