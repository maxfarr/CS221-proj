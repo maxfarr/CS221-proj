{
 "cells": [
  {
   "cell_type": "code",
   "execution_count": 1,
   "metadata": {},
   "outputs": [],
   "source": [
    "import numpy as np\n",
    "import math\n",
    "import collections\n",
    "from bs4 import BeautifulSoup\n",
    "from requests import Session\n",
    "import pandas as pd\n",
    "import threading\n",
    "from threading import Thread, Lock\n",
    "from queue import Queue\n",
    "from tqdm import tqdm_notebook\n",
    "import time\n",
    "import os"
   ]
  },
  {
   "cell_type": "code",
   "execution_count": 2,
   "metadata": {},
   "outputs": [
    {
     "data": {
      "application/vnd.jupyter.widget-view+json": {
       "model_id": "5a666486c4114b4a9aaef2373935990b",
       "version_major": 2,
       "version_minor": 0
      },
      "text/plain": [
       "HBox(children=(IntProgress(value=0, max=171), HTML(value='')))"
      ]
     },
     "metadata": {},
     "output_type": "display_data"
    },
    {
     "data": {
      "application/vnd.jupyter.widget-view+json": {
       "model_id": "a431c2ce17d24c028526713e3f231013",
       "version_major": 2,
       "version_minor": 0
      },
      "text/plain": [
       "HBox(children=(IntProgress(value=0, max=170), HTML(value='')))"
      ]
     },
     "metadata": {},
     "output_type": "display_data"
    },
    {
     "data": {
      "application/vnd.jupyter.widget-view+json": {
       "model_id": "2716290b2ef645ebbe1649825fb445e8",
       "version_major": 2,
       "version_minor": 0
      },
      "text/plain": [
       "HBox(children=(IntProgress(value=0, max=170), HTML(value='')))"
      ]
     },
     "metadata": {},
     "output_type": "display_data"
    },
    {
     "data": {
      "application/vnd.jupyter.widget-view+json": {
       "model_id": "c790975395ab49edad2d9b2c414a033a",
       "version_major": 2,
       "version_minor": 0
      },
      "text/plain": [
       "HBox(children=(IntProgress(value=0, max=170), HTML(value='')))"
      ]
     },
     "metadata": {},
     "output_type": "display_data"
    },
    {
     "data": {
      "application/vnd.jupyter.widget-view+json": {
       "model_id": "e45acfc8872b4133b11e9f0de43bc8fa",
       "version_major": 2,
       "version_minor": 0
      },
      "text/plain": [
       "HBox(children=(IntProgress(value=0, max=170), HTML(value='')))"
      ]
     },
     "metadata": {},
     "output_type": "display_data"
    },
    {
     "data": {
      "application/vnd.jupyter.widget-view+json": {
       "model_id": "a623dd5131c7458b81939fef7a8bc51e",
       "version_major": 2,
       "version_minor": 0
      },
      "text/plain": [
       "HBox(children=(IntProgress(value=0, max=170), HTML(value='')))"
      ]
     },
     "metadata": {},
     "output_type": "display_data"
    },
    {
     "data": {
      "application/vnd.jupyter.widget-view+json": {
       "model_id": "88edfe4a48364faa9f254f869d58f3cf",
       "version_major": 2,
       "version_minor": 0
      },
      "text/plain": [
       "HBox(children=(IntProgress(value=0, max=170), HTML(value='')))"
      ]
     },
     "metadata": {},
     "output_type": "display_data"
    },
    {
     "data": {
      "application/vnd.jupyter.widget-view+json": {
       "model_id": "6fadc569982a4caf9e8494230882578b",
       "version_major": 2,
       "version_minor": 0
      },
      "text/plain": [
       "HBox(children=(IntProgress(value=0, max=170), HTML(value='')))"
      ]
     },
     "metadata": {},
     "output_type": "display_data"
    },
    {
     "data": {
      "application/vnd.jupyter.widget-view+json": {
       "model_id": "6bfb1110ccd941faa6101ab7d5d83208",
       "version_major": 2,
       "version_minor": 0
      },
      "text/plain": [
       "HBox(children=(IntProgress(value=0, max=170), HTML(value='')))"
      ]
     },
     "metadata": {},
     "output_type": "display_data"
    },
    {
     "data": {
      "application/vnd.jupyter.widget-view+json": {
       "model_id": "1b265f6933a44f0c9c9ff3b5111b8006",
       "version_major": 2,
       "version_minor": 0
      },
      "text/plain": [
       "HBox(children=(IntProgress(value=0, max=170), HTML(value='')))"
      ]
     },
     "metadata": {},
     "output_type": "display_data"
    },
    {
     "data": {
      "application/vnd.jupyter.widget-view+json": {
       "model_id": "37ff0153b36641b58d9c136337dab5d7",
       "version_major": 2,
       "version_minor": 0
      },
      "text/plain": [
       "HBox(children=(IntProgress(value=0, max=170), HTML(value='')))"
      ]
     },
     "metadata": {},
     "output_type": "display_data"
    },
    {
     "data": {
      "application/vnd.jupyter.widget-view+json": {
       "model_id": "b9cb5634e8cb44ab8d588a7ea9bdd99b",
       "version_major": 2,
       "version_minor": 0
      },
      "text/plain": [
       "HBox(children=(IntProgress(value=0, max=170), HTML(value='')))"
      ]
     },
     "metadata": {},
     "output_type": "display_data"
    },
    {
     "data": {
      "application/vnd.jupyter.widget-view+json": {
       "model_id": "60befe2315ec4eee81685ff54b5327cf",
       "version_major": 2,
       "version_minor": 0
      },
      "text/plain": [
       "HBox(children=(IntProgress(value=0, max=170), HTML(value='')))"
      ]
     },
     "metadata": {},
     "output_type": "display_data"
    },
    {
     "data": {
      "application/vnd.jupyter.widget-view+json": {
       "model_id": "c23ab9d66e6f417ab937c6350bf0377d",
       "version_major": 2,
       "version_minor": 0
      },
      "text/plain": [
       "HBox(children=(IntProgress(value=0, max=170), HTML(value='')))"
      ]
     },
     "metadata": {},
     "output_type": "display_data"
    },
    {
     "data": {
      "application/vnd.jupyter.widget-view+json": {
       "model_id": "f3a9e3d3b3d440c0a646c34b23bb1760",
       "version_major": 2,
       "version_minor": 0
      },
      "text/plain": [
       "HBox(children=(IntProgress(value=0, max=170), HTML(value='')))"
      ]
     },
     "metadata": {},
     "output_type": "display_data"
    },
    {
     "name": "stdout",
     "output_type": "stream",
     "text": [
      "group: 2\n"
     ]
    },
    {
     "ename": "TypeError",
     "evalue": "cannot concatenate object of type \"<class 'int'>\"; only pd.Series, pd.DataFrame, and pd.Panel (deprecated) objs are valid",
     "output_type": "error",
     "traceback": [
      "\u001b[1;31m---------------------------------------------------------------------------\u001b[0m",
      "\u001b[1;31mTypeError\u001b[0m                                 Traceback (most recent call last)",
      "\u001b[1;32m<ipython-input-2-3125ca5385d3>\u001b[0m in \u001b[0;36m<module>\u001b[1;34m\u001b[0m\n\u001b[0;32m    114\u001b[0m         \u001b[0mi\u001b[0m \u001b[1;33m=\u001b[0m \u001b[0minput\u001b[0m\u001b[1;33m(\u001b[0m\u001b[1;34m\"group: \"\u001b[0m\u001b[1;33m)\u001b[0m\u001b[1;33m\u001b[0m\u001b[1;33m\u001b[0m\u001b[0m\n\u001b[0;32m    115\u001b[0m         \u001b[1;32mif\u001b[0m \u001b[0mi\u001b[0m \u001b[1;33m==\u001b[0m \u001b[1;34m\"\"\u001b[0m\u001b[1;33m:\u001b[0m \u001b[1;32mbreak\u001b[0m\u001b[1;33m\u001b[0m\u001b[1;33m\u001b[0m\u001b[0m\n\u001b[1;32m--> 116\u001b[1;33m         \u001b[0mtryGroup\u001b[0m\u001b[1;33m(\u001b[0m\u001b[0mint\u001b[0m\u001b[1;33m(\u001b[0m\u001b[0mi\u001b[0m\u001b[1;33m)\u001b[0m\u001b[1;33m)\u001b[0m\u001b[1;33m\u001b[0m\u001b[1;33m\u001b[0m\u001b[0m\n\u001b[0m\u001b[0;32m    117\u001b[0m \u001b[1;33m\u001b[0m\u001b[0m\n",
      "\u001b[1;32m<ipython-input-2-3125ca5385d3>\u001b[0m in \u001b[0;36mtryGroup\u001b[1;34m(i)\u001b[0m\n\u001b[0;32m    104\u001b[0m \u001b[1;33m\u001b[0m\u001b[0m\n\u001b[0;32m    105\u001b[0m         \u001b[1;32mif\u001b[0m \u001b[1;32mnot\u001b[0m \u001b[0mfailed\u001b[0m\u001b[1;33m:\u001b[0m\u001b[1;33m\u001b[0m\u001b[1;33m\u001b[0m\u001b[0m\n\u001b[1;32m--> 106\u001b[1;33m             \u001b[0mbig_df\u001b[0m \u001b[1;33m=\u001b[0m \u001b[0mpd\u001b[0m\u001b[1;33m.\u001b[0m\u001b[0mconcat\u001b[0m\u001b[1;33m(\u001b[0m\u001b[0mlists_of_df\u001b[0m\u001b[1;33m[\u001b[0m\u001b[0mi\u001b[0m\u001b[1;33m]\u001b[0m\u001b[1;33m)\u001b[0m\u001b[1;33m\u001b[0m\u001b[1;33m\u001b[0m\u001b[0m\n\u001b[0m\u001b[0;32m    107\u001b[0m             \u001b[0mbig_df\u001b[0m\u001b[1;33m.\u001b[0m\u001b[0mdrop_duplicates\u001b[0m\u001b[1;33m(\u001b[0m\u001b[0msubset\u001b[0m \u001b[1;33m=\u001b[0m \u001b[1;33m[\u001b[0m\u001b[1;34m\"text\"\u001b[0m\u001b[1;33m,\u001b[0m \u001b[1;34m\"author\"\u001b[0m\u001b[1;33m,\u001b[0m \u001b[1;34m\"likes\"\u001b[0m\u001b[1;33m,\u001b[0m \u001b[1;34m\"tags\"\u001b[0m\u001b[1;33m]\u001b[0m\u001b[1;33m,\u001b[0m \u001b[0minplace\u001b[0m\u001b[1;33m=\u001b[0m\u001b[1;32mTrue\u001b[0m\u001b[1;33m)\u001b[0m\u001b[1;33m\u001b[0m\u001b[1;33m\u001b[0m\u001b[0m\n\u001b[0;32m    108\u001b[0m             \u001b[0mbig_df\u001b[0m\u001b[1;33m.\u001b[0m\u001b[0mto_csv\u001b[0m\u001b[1;33m(\u001b[0m\u001b[1;34m\"tagged_quotes_compiled_{}.csv\"\u001b[0m\u001b[1;33m.\u001b[0m\u001b[0mformat\u001b[0m\u001b[1;33m(\u001b[0m\u001b[0mi\u001b[0m\u001b[1;33m)\u001b[0m\u001b[1;33m,\u001b[0m \u001b[0mindex_label\u001b[0m\u001b[1;33m=\u001b[0m\u001b[1;32mFalse\u001b[0m\u001b[1;33m)\u001b[0m\u001b[1;33m\u001b[0m\u001b[1;33m\u001b[0m\u001b[0m\n",
      "\u001b[1;32m~\\Anaconda3\\lib\\site-packages\\pandas\\core\\reshape\\concat.py\u001b[0m in \u001b[0;36mconcat\u001b[1;34m(objs, axis, join, join_axes, ignore_index, keys, levels, names, verify_integrity, sort, copy)\u001b[0m\n\u001b[0;32m    226\u001b[0m                        \u001b[0mkeys\u001b[0m\u001b[1;33m=\u001b[0m\u001b[0mkeys\u001b[0m\u001b[1;33m,\u001b[0m \u001b[0mlevels\u001b[0m\u001b[1;33m=\u001b[0m\u001b[0mlevels\u001b[0m\u001b[1;33m,\u001b[0m \u001b[0mnames\u001b[0m\u001b[1;33m=\u001b[0m\u001b[0mnames\u001b[0m\u001b[1;33m,\u001b[0m\u001b[1;33m\u001b[0m\u001b[1;33m\u001b[0m\u001b[0m\n\u001b[0;32m    227\u001b[0m                        \u001b[0mverify_integrity\u001b[0m\u001b[1;33m=\u001b[0m\u001b[0mverify_integrity\u001b[0m\u001b[1;33m,\u001b[0m\u001b[1;33m\u001b[0m\u001b[1;33m\u001b[0m\u001b[0m\n\u001b[1;32m--> 228\u001b[1;33m                        copy=copy, sort=sort)\n\u001b[0m\u001b[0;32m    229\u001b[0m     \u001b[1;32mreturn\u001b[0m \u001b[0mop\u001b[0m\u001b[1;33m.\u001b[0m\u001b[0mget_result\u001b[0m\u001b[1;33m(\u001b[0m\u001b[1;33m)\u001b[0m\u001b[1;33m\u001b[0m\u001b[1;33m\u001b[0m\u001b[0m\n\u001b[0;32m    230\u001b[0m \u001b[1;33m\u001b[0m\u001b[0m\n",
      "\u001b[1;32m~\\Anaconda3\\lib\\site-packages\\pandas\\core\\reshape\\concat.py\u001b[0m in \u001b[0;36m__init__\u001b[1;34m(self, objs, axis, join, join_axes, keys, levels, names, ignore_index, verify_integrity, copy, sort)\u001b[0m\n\u001b[0;32m    287\u001b[0m                        \u001b[1;34m' only pd.Series, pd.DataFrame, and pd.Panel'\u001b[0m\u001b[1;33m\u001b[0m\u001b[1;33m\u001b[0m\u001b[0m\n\u001b[0;32m    288\u001b[0m                        ' (deprecated) objs are valid'.format(type(obj)))\n\u001b[1;32m--> 289\u001b[1;33m                 \u001b[1;32mraise\u001b[0m \u001b[0mTypeError\u001b[0m\u001b[1;33m(\u001b[0m\u001b[0mmsg\u001b[0m\u001b[1;33m)\u001b[0m\u001b[1;33m\u001b[0m\u001b[1;33m\u001b[0m\u001b[0m\n\u001b[0m\u001b[0;32m    290\u001b[0m \u001b[1;33m\u001b[0m\u001b[0m\n\u001b[0;32m    291\u001b[0m             \u001b[1;31m# consolidate\u001b[0m\u001b[1;33m\u001b[0m\u001b[1;33m\u001b[0m\u001b[1;33m\u001b[0m\u001b[0m\n",
      "\u001b[1;31mTypeError\u001b[0m: cannot concatenate object of type \"<class 'int'>\"; only pd.Series, pd.DataFrame, and pd.Panel (deprecated) objs are valid"
     ]
    }
   ],
   "source": [
    "url = \"https://www.goodreads.com/quotes/tag/{}?page={}\"\n",
    "\n",
    "def process(data, session):\n",
    "        page = session.get(url.format(data[1], 1))\n",
    "        if page.status_code != 200:\n",
    "            return page.status_code\n",
    "        soup = BeautifulSoup(page.text, 'html.parser')\n",
    "        container = soup.body.find(class_=\"mainContentFloat\").find(class_ = \"leftContainer\")\n",
    "        if(container.find(\"div\", attrs={\"style\": \"float: right;\"}).div == None):\n",
    "                lastpage = 1\n",
    "        else:\n",
    "                lastpage = container.find(\"div\", attrs={\"style\": \"float: right;\"}).div.contents[-3].contents[0]\n",
    "                lastpage = int(lastpage)\n",
    "\n",
    "        os.write(1, \"{} | {}, {} pages\\n\".format(data[0], data[1], lastpage).encode())\n",
    "        \n",
    "        quotefeatures = []\n",
    "        for i in range(lastpage):\n",
    "                page = session.get(url.format(data[1], i))\n",
    "                if page.status_code != 200:\n",
    "                    return page.status_code\n",
    "                soup = BeautifulSoup(page.text, 'html.parser')\n",
    "                container = soup.body.find(class_=\"mainContentFloat\").find(class_ = \"leftContainer\")\n",
    "                quotes = container.find_all(\"div\", attrs={\"class\": \"quote\"})\n",
    "                for quote in quotes:\n",
    "                        text = quote.find(\"div\").find(\"div\").contents[0].strip()[1:-1]\n",
    "                        author = quote.find(\"div\").find(\"div\").find(\"span\").contents[0].strip()\n",
    "                        likes = quote.find(\"div\").find(attrs={\"class\": \"quoteFooter\"}).\\\n",
    "                                find(\"div\", attrs={\"class\", \"right\"}).find(\"a\").contents[0][:-6]\n",
    "                        likes = int(likes)\n",
    "                        tags = quote.find(\"div\").find(attrs={\"class\": \"quoteFooter\"}).find(\"div\").find_all(\"a\")\n",
    "                        taglist = [tag.contents[0] for tag in tags]\n",
    "                        taglist = \", \".join(taglist)\n",
    "                        features = {\"text\": text, \"author\": author, \"likes\": likes, \"tags\": taglist}\n",
    "                        quotefeatures.append(features)\n",
    "        df = pd.DataFrame(quotefeatures)\n",
    "\n",
    "        return (df, data[1])\n",
    "\n",
    "if __name__ == '__main__':\n",
    "    df_popular = pd.read_csv(\"popular_quotes.csv\", index_col=0, parse_dates=True)\n",
    "    possible_tags = set()\n",
    "    for t in df_popular.tags:\n",
    "        tags = [x.strip()[1:-1] for x in t[1:-1].split(\",\")]\n",
    "        for tag in tags:\n",
    "            possible_tags.add(tag)\n",
    "    origsize = len(possible_tags)\n",
    "    groups = [set(x) for x in np.array_split(np.asarray(list(possible_tags)), 15)]\n",
    "    \n",
    "    pbars = [tqdm_notebook(total=len(group)) for group in groups]\n",
    "    \n",
    "    lists_of_df = [[] for group in groups]\n",
    "    \n",
    "    def tryGroup(i):\n",
    "        q = Queue()\n",
    "        s = Session()\n",
    "        \n",
    "        queue_lock = Lock()\n",
    "        print_lock = Lock()\n",
    "\n",
    "        failed = False\n",
    "\n",
    "        def thread_job():\n",
    "            while True:\n",
    "                with queue_lock:\n",
    "                    try: data = q.get(timeout=3)\n",
    "                    except:\n",
    "                        os.write(1, \"nowait excepted\\n\".encode())\n",
    "                        return\n",
    "\n",
    "                result = process(data, s)\n",
    "                if not isinstance(result, tuple):\n",
    "                    os.write(1, \"about to fail\\n\".encode())\n",
    "                    with queue_lock:\n",
    "                        global failed\n",
    "                        if failed: return\n",
    "                        failed = True\n",
    "                        #mark all other jobs as completed\n",
    "                        os.write(1, \"failed\\n\".encode())\n",
    "                        while not q.empty():\n",
    "                            try:\n",
    "                                item = q.get_nowait()\n",
    "                                q.task_done()\n",
    "                            except: break\n",
    "                        return\n",
    "\n",
    "                groups[i].remove(data[1])\n",
    "                lists_of_df[i].append(data[0])\n",
    "                pbars[i].update()\n",
    "                q.task_done()\n",
    "\n",
    "        for x in range(8):\n",
    "            thread = threading.Thread(target = thread_job)\n",
    "            thread.daemon = True\n",
    "            thread.start()\n",
    "        \n",
    "        for data in enumerate(groups[i]):\n",
    "            q.put(data)\n",
    "\n",
    "        q.join()\n",
    "\n",
    "        if not failed:\n",
    "            big_df = pd.concat(lists_of_df[i])\n",
    "            big_df.drop_duplicates(subset = [\"text\", \"author\", \"likes\", \"tags\"], inplace=True)\n",
    "            big_df.to_csv(\"tagged_quotes_compiled_{}.csv\".format(i), index_label=False)\n",
    "            with print_lock:\n",
    "                print(\"completed {}\".format(i))\n",
    "    \n",
    "    time.sleep(1)\n",
    "    while(True):\n",
    "        i = input(\"group: \")\n",
    "        if i == \"\": break\n",
    "        tryGroup(int(i))\n",
    "            "
   ]
  },
  {
   "cell_type": "code",
   "execution_count": null,
   "metadata": {},
   "outputs": [],
   "source": []
  }
 ],
 "metadata": {
  "kernelspec": {
   "display_name": "Python 3",
   "language": "python",
   "name": "python3"
  },
  "language_info": {
   "codemirror_mode": {
    "name": "ipython",
    "version": 3
   },
   "file_extension": ".py",
   "mimetype": "text/x-python",
   "name": "python",
   "nbconvert_exporter": "python",
   "pygments_lexer": "ipython3",
   "version": "3.7.3"
  }
 },
 "nbformat": 4,
 "nbformat_minor": 2
}
